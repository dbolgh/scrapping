{
 "cells": [
  {
   "cell_type": "code",
   "execution_count": 14,
   "id": "6fc5224a-acb6-4219-ba90-637feaa4ce2f",
   "metadata": {},
   "outputs": [],
   "source": [
    "from selenium import webdriver\n",
    "from selenium.webdriver.common.by import By\n",
    "\n",
    "import time\n",
    "\n",
    "driver_path = r\"C:\\Users\\danil\\Documents\\scrapping\\webdriver\\chromedriver.exe\"\n",
    "browser = webdriver.Chrome()\n",
    "browser.get(\"https://www.instagram.com/explore/tags/oboticario/\")\n"
   ]
  },
  {
   "cell_type": "code",
   "execution_count": 18,
   "id": "2932d7f4-9e3c-4ed6-b8f0-98e575999d95",
   "metadata": {},
   "outputs": [
    {
     "name": "stdout",
     "output_type": "stream",
     "text": [
      "['https://www.instagram.com/p/Cz19raKRCoh/', 'https://www.instagram.com/p/Czh15D-sb4V/', 'https://www.instagram.com/p/CzbqPQNuxtR/', 'https://www.instagram.com/p/Cz3fh_jLWsZ/', 'https://www.instagram.com/p/CzmioYFR5Mf/', 'https://www.instagram.com/p/CzjEGQcOnrK/', 'https://www.instagram.com/p/CzHK718rdlx/', 'https://www.instagram.com/p/CzcLMiMgNrR/', 'https://www.instagram.com/p/Cz3o_y5uVn8/']\n"
     ]
    }
   ],
   "source": [
    "get_element = browser.find_elements(By.XPATH, \"//a[@role='link']\")\n",
    "\n",
    "list_of_posts = [item.get_attribute(\"href\") for item in get_element if '/p/' in item.get_attribute(\"href\")]\n",
    "\n",
    "print(list_of_posts)\n",
    "\n",
    "\n"
   ]
  },
  {
   "cell_type": "code",
   "execution_count": 21,
   "id": "42ccc03b-2969-4d61-b1f1-19baafb37797",
   "metadata": {},
   "outputs": [],
   "source": [
    "list_of_comments = []"
   ]
  },
  {
   "cell_type": "code",
   "execution_count": 22,
   "id": "2f29314b-f907-4321-9fa6-26ec447f5718",
   "metadata": {},
   "outputs": [
    {
     "name": "stdout",
     "output_type": "stream",
     "text": [
      "['Clube 6, óbvio. É difícil de agradar mas é uma delícia', 'Dica de perfume parecido com Acqua Di GIO Homm', 'Um melhor que o outro 😍']\n",
      "['Clube 6, óbvio. É difícil de agradar mas é uma delícia', 'Dica de perfume parecido com Acqua Di GIO Homm', 'Um melhor que o outro 😍', 'Já salvei pra compra e andar cheirosa', 'Tenho todos hahah❤️', 'Segue aí galera! Falta pouco pra eu chegar aos 200 seguidores. Dá essa ajuda aí? 🙌 É grátis, só clicar em seguir.', '😮😍😢👏🔥🙌❤️👏🙌😍', 'Glamour amo 😍😍', 'Ainda quero poder comprar o Floratta red 😍']\n",
      "['Clube 6, óbvio. É difícil de agradar mas é uma delícia', 'Dica de perfume parecido com Acqua Di GIO Homm', 'Um melhor que o outro 😍', 'Já salvei pra compra e andar cheirosa', 'Tenho todos hahah❤️', 'Segue aí galera! Falta pouco pra eu chegar aos 200 seguidores. Dá essa ajuda aí? 🙌 É grátis, só clicar em seguir.', '😮😍😢👏🔥🙌❤️👏🙌😍', 'Glamour amo 😍😍', 'Ainda quero poder comprar o Floratta red 😍', '@belly_o.souza haaaa', 'Assim não dá cara 😂 mal comprei o que saiu agora acho que ameixa já vem outro o pobre não tem um minuto de paz😂😂😂', '@marcia.veiga.39589 quando lançar já quero um de cada 🤣🤣♥️♥️']\n",
      "['Clube 6, óbvio. É difícil de agradar mas é uma delícia', 'Dica de perfume parecido com Acqua Di GIO Homm', 'Um melhor que o outro 😍', 'Já salvei pra compra e andar cheirosa', 'Tenho todos hahah❤️', 'Segue aí galera! Falta pouco pra eu chegar aos 200 seguidores. Dá essa ajuda aí? 🙌 É grátis, só clicar em seguir.', '😮😍😢👏🔥🙌❤️👏🙌😍', 'Glamour amo 😍😍', 'Ainda quero poder comprar o Floratta red 😍', '@belly_o.souza haaaa', 'Assim não dá cara 😂 mal comprei o que saiu agora acho que ameixa já vem outro o pobre não tem um minuto de paz😂😂😂', '@marcia.veiga.39589 quando lançar já quero um de cada 🤣🤣♥️♥️', 'eu acho engraçado, o malbec flame na minha pele ficou uma bomba, só consigo usar ele em noirtes amenas']\n",
      "['Clube 6, óbvio. É difícil de agradar mas é uma delícia', 'Dica de perfume parecido com Acqua Di GIO Homm', 'Um melhor que o outro 😍', 'Já salvei pra compra e andar cheirosa', 'Tenho todos hahah❤️', 'Segue aí galera! Falta pouco pra eu chegar aos 200 seguidores. Dá essa ajuda aí? 🙌 É grátis, só clicar em seguir.', '😮😍😢👏🔥🙌❤️👏🙌😍', 'Glamour amo 😍😍', 'Ainda quero poder comprar o Floratta red 😍', '@belly_o.souza haaaa', 'Assim não dá cara 😂 mal comprei o que saiu agora acho que ameixa já vem outro o pobre não tem um minuto de paz😂😂😂', '@marcia.veiga.39589 quando lançar já quero um de cada 🤣🤣♥️♥️', 'eu acho engraçado, o malbec flame na minha pele ficou uma bomba, só consigo usar ele em noirtes amenas', 'Pri, sua dica do Woop foi certeira. Comprei da ITB e amei obg! Vou usar pra ir numa rave 😂', 'O Club 6 Voyage, vale cada centavo pago. Maravilhoso, uma bomba. ❤️', '❤️', 'Quais os melhores frescos?', 'Nossa o kaiak nesse preço tá compensando muito hein', '@samermateus', 'A questão é... quais fixam mais😂😂???', 'Esse arbo é um dos melhores perfumes pro calor que eu tenho. Prefiro até do que acqua di gio']\n",
      "['Clube 6, óbvio. É difícil de agradar mas é uma delícia', 'Dica de perfume parecido com Acqua Di GIO Homm', 'Um melhor que o outro 😍', 'Já salvei pra compra e andar cheirosa', 'Tenho todos hahah❤️', 'Segue aí galera! Falta pouco pra eu chegar aos 200 seguidores. Dá essa ajuda aí? 🙌 É grátis, só clicar em seguir.', '😮😍😢👏🔥🙌❤️👏🙌😍', 'Glamour amo 😍😍', 'Ainda quero poder comprar o Floratta red 😍', '@belly_o.souza haaaa', 'Assim não dá cara 😂 mal comprei o que saiu agora acho que ameixa já vem outro o pobre não tem um minuto de paz😂😂😂', '@marcia.veiga.39589 quando lançar já quero um de cada 🤣🤣♥️♥️', 'eu acho engraçado, o malbec flame na minha pele ficou uma bomba, só consigo usar ele em noirtes amenas', 'Pri, sua dica do Woop foi certeira. Comprei da ITB e amei obg! Vou usar pra ir numa rave 😂', 'O Club 6 Voyage, vale cada centavo pago. Maravilhoso, uma bomba. ❤️', '❤️', 'Quais os melhores frescos?', 'Nossa o kaiak nesse preço tá compensando muito hein', '@samermateus', 'A questão é... quais fixam mais😂😂???', 'Esse arbo é um dos melhores perfumes pro calor que eu tenho. Prefiro até do que acqua di gio', 'Eu ganhei de presente o acerola e hibisco e achei uma delícia ❤️😍😍... Não paro de usar e só está comigo a dois dias 😂😂😂😂', 'Amo ilia flor de laranjeira']\n",
      "['Clube 6, óbvio. É difícil de agradar mas é uma delícia', 'Dica de perfume parecido com Acqua Di GIO Homm', 'Um melhor que o outro 😍', 'Já salvei pra compra e andar cheirosa', 'Tenho todos hahah❤️', 'Segue aí galera! Falta pouco pra eu chegar aos 200 seguidores. Dá essa ajuda aí? 🙌 É grátis, só clicar em seguir.', '😮😍😢👏🔥🙌❤️👏🙌😍', 'Glamour amo 😍😍', 'Ainda quero poder comprar o Floratta red 😍', '@belly_o.souza haaaa', 'Assim não dá cara 😂 mal comprei o que saiu agora acho que ameixa já vem outro o pobre não tem um minuto de paz😂😂😂', '@marcia.veiga.39589 quando lançar já quero um de cada 🤣🤣♥️♥️', 'eu acho engraçado, o malbec flame na minha pele ficou uma bomba, só consigo usar ele em noirtes amenas', 'Pri, sua dica do Woop foi certeira. Comprei da ITB e amei obg! Vou usar pra ir numa rave 😂', 'O Club 6 Voyage, vale cada centavo pago. Maravilhoso, uma bomba. ❤️', '❤️', 'Quais os melhores frescos?', 'Nossa o kaiak nesse preço tá compensando muito hein', '@samermateus', 'A questão é... quais fixam mais😂😂???', 'Esse arbo é um dos melhores perfumes pro calor que eu tenho. Prefiro até do que acqua di gio', 'Eu ganhei de presente o acerola e hibisco e achei uma delícia ❤️😍😍... Não paro de usar e só está comigo a dois dias 😂😂😂😂', 'Amo ilia flor de laranjeira', 'Tuuuudo de bom', 'Tudo esse presente 😍', '👏', 'Ola', 'Olq', 'Muito bom , fica bem tenho todos ❤️', 'Esse hidratante não tem cheiro de nadaaaa', 'Eu tenhoooooo kkkkkk❤️❤️❤️❤️', 'Comprei o kit, adoreiiiii 😍😍😍😍', 'O melhor cheiroooo,comprei o kit, exala muitoo']\n",
      "['Clube 6, óbvio. É difícil de agradar mas é uma delícia', 'Dica de perfume parecido com Acqua Di GIO Homm', 'Um melhor que o outro 😍', 'Já salvei pra compra e andar cheirosa', 'Tenho todos hahah❤️', 'Segue aí galera! Falta pouco pra eu chegar aos 200 seguidores. Dá essa ajuda aí? 🙌 É grátis, só clicar em seguir.', '😮😍😢👏🔥🙌❤️👏🙌😍', 'Glamour amo 😍😍', 'Ainda quero poder comprar o Floratta red 😍', '@belly_o.souza haaaa', 'Assim não dá cara 😂 mal comprei o que saiu agora acho que ameixa já vem outro o pobre não tem um minuto de paz😂😂😂', '@marcia.veiga.39589 quando lançar já quero um de cada 🤣🤣♥️♥️', 'eu acho engraçado, o malbec flame na minha pele ficou uma bomba, só consigo usar ele em noirtes amenas', 'Pri, sua dica do Woop foi certeira. Comprei da ITB e amei obg! Vou usar pra ir numa rave 😂', 'O Club 6 Voyage, vale cada centavo pago. Maravilhoso, uma bomba. ❤️', '❤️', 'Quais os melhores frescos?', 'Nossa o kaiak nesse preço tá compensando muito hein', '@samermateus', 'A questão é... quais fixam mais😂😂???', 'Esse arbo é um dos melhores perfumes pro calor que eu tenho. Prefiro até do que acqua di gio', 'Eu ganhei de presente o acerola e hibisco e achei uma delícia ❤️😍😍... Não paro de usar e só está comigo a dois dias 😂😂😂😂', 'Amo ilia flor de laranjeira', 'Tuuuudo de bom', 'Tudo esse presente 😍', '👏', 'Ola', 'Olq', 'Muito bom , fica bem tenho todos ❤️', 'Esse hidratante não tem cheiro de nadaaaa', 'Eu tenhoooooo kkkkkk❤️❤️❤️❤️', 'Comprei o kit, adoreiiiii 😍😍😍😍', 'O melhor cheiroooo,comprei o kit, exala muitoo', 'Eu tenho os dois e amo! ❤️❤️', 'Esse pessegura me surpreendeu, tem um cheirinho frutado confortável,me lembra um pouco cheirinho de iogurte, fora que deixa o toque leve e macio na pele, absorve rápido na pele, e o Ameixa tem fragrância que é só elogios ,amo os dois😍', '😍😍😍']\n",
      "['Clube 6, óbvio. É difícil de agradar mas é uma delícia', 'Dica de perfume parecido com Acqua Di GIO Homm', 'Um melhor que o outro 😍', 'Já salvei pra compra e andar cheirosa', 'Tenho todos hahah❤️', 'Segue aí galera! Falta pouco pra eu chegar aos 200 seguidores. Dá essa ajuda aí? 🙌 É grátis, só clicar em seguir.', '😮😍😢👏🔥🙌❤️👏🙌😍', 'Glamour amo 😍😍', 'Ainda quero poder comprar o Floratta red 😍', '@belly_o.souza haaaa', 'Assim não dá cara 😂 mal comprei o que saiu agora acho que ameixa já vem outro o pobre não tem um minuto de paz😂😂😂', '@marcia.veiga.39589 quando lançar já quero um de cada 🤣🤣♥️♥️', 'eu acho engraçado, o malbec flame na minha pele ficou uma bomba, só consigo usar ele em noirtes amenas', 'Pri, sua dica do Woop foi certeira. Comprei da ITB e amei obg! Vou usar pra ir numa rave 😂', 'O Club 6 Voyage, vale cada centavo pago. Maravilhoso, uma bomba. ❤️', '❤️', 'Quais os melhores frescos?', 'Nossa o kaiak nesse preço tá compensando muito hein', '@samermateus', 'A questão é... quais fixam mais😂😂???', 'Esse arbo é um dos melhores perfumes pro calor que eu tenho. Prefiro até do que acqua di gio', 'Eu ganhei de presente o acerola e hibisco e achei uma delícia ❤️😍😍... Não paro de usar e só está comigo a dois dias 😂😂😂😂', 'Amo ilia flor de laranjeira', 'Tuuuudo de bom', 'Tudo esse presente 😍', '👏', 'Ola', 'Olq', 'Muito bom , fica bem tenho todos ❤️', 'Esse hidratante não tem cheiro de nadaaaa', 'Eu tenhoooooo kkkkkk❤️❤️❤️❤️', 'Comprei o kit, adoreiiiii 😍😍😍😍', 'O melhor cheiroooo,comprei o kit, exala muitoo', 'Eu tenho os dois e amo! ❤️❤️', 'Esse pessegura me surpreendeu, tem um cheirinho frutado confortável,me lembra um pouco cheirinho de iogurte, fora que deixa o toque leve e macio na pele, absorve rápido na pele, e o Ameixa tem fragrância que é só elogios ,amo os dois😍', '😍😍😍', 'Como sempre, só perfeição. Parabéns!👏', 'Tudo perfeito 😍😍😍', 'Simplesmente linda!', 'Maravilindoss! 😍❤️']\n"
     ]
    }
   ],
   "source": [
    "for post in list_of_posts:\n",
    "    browser.get(post)\n",
    "    time.sleep(10)\n",
    "\n",
    "    comments = browser.find_elements(By.XPATH, \"//span[@class='_ap3a _aaco _aacu _aacx _aad7 _aade']\")\n",
    "    for comment in comments:\n",
    "        if comment.text == 'Log in to like or comment.':\n",
    "            break\n",
    "        list_of_comments.append(comment.text)\n",
    "\n",
    "    print(list_of_comments)\n",
    "\n",
    "    "
   ]
  }
 ],
 "metadata": {
  "kernelspec": {
   "display_name": "Python 3 (ipykernel)",
   "language": "python",
   "name": "python3"
  },
  "language_info": {
   "codemirror_mode": {
    "name": "ipython",
    "version": 3
   },
   "file_extension": ".py",
   "mimetype": "text/x-python",
   "name": "python",
   "nbconvert_exporter": "python",
   "pygments_lexer": "ipython3",
   "version": "3.11.6"
  }
 },
 "nbformat": 4,
 "nbformat_minor": 5
}
